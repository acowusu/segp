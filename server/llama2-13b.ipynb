{
 "cells": [
  {
   "cell_type": "code",
   "execution_count": 1,
   "id": "08eeb91c-a295-4a41-b30a-40a8fecf0703",
   "metadata": {},
   "outputs": [],
   "source": [
    "import torch\n",
    "from transformers import AutoTokenizer, AutoModelForCausalLM, BitsAndBytesConfig, pipeline, TextStreamer"
   ]
  },
  {
   "cell_type": "code",
   "execution_count": 2,
   "id": "4470efc0-8459-4970-ba41-06bcece13e86",
   "metadata": {},
   "outputs": [],
   "source": [
    "model_name_or_path = \"TheBloke/Llama-2-13B-chat-GPTQ\"\n",
    "tokenizer = AutoTokenizer.from_pretrained(model_name_or_path, use_fast=True)\n",
    "model = AutoModelForCausalLM.from_pretrained(model_name_or_path,\n",
    "                                         device_map=\"auto\",\n",
    "                                         trust_remote_code=False,\n",
    "                                         revision=\"main\")"
   ]
  },
  {
   "cell_type": "code",
   "execution_count": 3,
   "id": "1b240914-f540-4b43-9426-777e1d784111",
   "metadata": {},
   "outputs": [],
   "source": [
    "streamer = TextStreamer(tokenizer,timeout=0,skip_prompt=True,skip_special_tokens=True)"
   ]
  },
  {
   "cell_type": "code",
   "execution_count": 5,
   "id": "64a36a82-93f6-4d6b-8834-6ac2c23014ef",
   "metadata": {},
   "outputs": [],
   "source": [
    "pipe= pipeline(\n",
    "        \"text-generation\",\n",
    "        model=model,\n",
    "        tokenizer=tokenizer,\n",
    "        streamer=streamer,\n",
    "        max_new_tokens=1048,\n",
    "        #do_sample=True,\n",
    "        #temperature=0.1,\n",
    "        #top_p=0.95,\n",
    "        #top_k=40,\n",
    "        return_full_text=False, \n",
    "        repetition_penalty=1.1)\n",
    "    "
   ]
  },
  {
   "cell_type": "code",
   "execution_count": 6,
   "id": "a24a06e6-bb5a-4876-bd70-4ea6580a172c",
   "metadata": {},
   "outputs": [],
   "source": [
    "prompt = \"what is the best anime ever\"\n",
    "prompt_template=f'''[INST] <<SYS>>\n",
    "You are a helpful, respectful and honest assistant. Always answer as helpfully as possible, while being safe.  Your answers should not include any harmful, unethical, racist, sexist, toxic, dangerous, or illegal content. Please ensure that your responses are socially unbiased and positive in nature. If a question does not make any sense, or is not factually coherent, explain why instead of answering something not correct. If you don't know the answer to a question, please don't share false information.\n",
    "<</SYS>>\n",
    "{prompt}[/INST]'''"
   ]
  },
  {
   "cell_type": "code",
   "execution_count": 7,
   "id": "ecb128ce-9302-4171-ac35-690f28ce5265",
   "metadata": {},
   "outputs": [
    {
     "name": "stderr",
     "output_type": "stream",
     "text": [
      "/opt/conda/envs/pdftovideo/lib/python3.8/site-packages/transformers/generation/utils.py:1290: UserWarning: You have modified the pretrained model configuration to control generation. This is a deprecated strategy to control generation and will be removed soon, in a future version. Please use and modify the model generation configuration (see https://huggingface.co/docs/transformers/generation_strategies#default-text-generation-configuration )\n",
      "  warnings.warn(\n"
     ]
    },
    {
     "name": "stdout",
     "output_type": "stream",
     "text": [
      "?\n",
      "\n",
      "There are many great anime series out there, and opinions on the best one can vary depending on personal taste and preferences. However, here are some of the most popular and critically acclaimed anime of all time:\n",
      "\n",
      "1. \"Attack on Titan\" (2013) - a dark and suspenseful post-apocalyptic series about humanity's fight against giant humanoid creatures.\n",
      "2. \"Death Note\" (2006) - a psychological thriller about a high school student who discovers a notebook that can kill anyone whose name is written in it.\n",
      "3. \"Fullmetal Alchemist: Brotherhood\" (2009) - a fantasy adventure series about two brothers on a quest to restore their bodies after a failed attempt to bring their mother back to life through alchemy.\n",
      "4. \"Your Lie in April\" (2014) - a romantic drama about a piano prodigy who finds love and inspiration through music.\n",
      "5. \"Haikyuu!!\" (2014) - a sports comedy about a high school volleyball team's journey to the top.\n",
      "6. \"Sword Art Online\" (2012) - a science fiction series set in a virtual reality game where players can log in and experience a new world, but the game becomes a nightmare when the creator traps the players inside.\n",
      "7. \"One Punch Man\" (2015) - a superhero parody series about a powerful hero who can defeat his enemies with just one punch.\n",
      "8. \"Puella Magi Madoka Magica\" (2011) - a magical girl series that deconstructs the genre and explores themes of friendship, sacrifice, and the consequences of making a deal with a mysterious entity.\n",
      "9. \"Gurren Lagann\" (2007) - a mecha series set in a dystopian future where humanity fights against an oppressive government with the help of a powerful robot.\n",
      "10. \"My Hero Academia\" (2016) - a superhero series about a young boy who dreams of becoming a hero despite being born without any powers.\n",
      "\n",
      "Of course, this is just a small sample of the many amazing anime series out there, and there are many other great shows worth checking out depending on your interests.\n"
     ]
    }
   ],
   "source": [
    "output=pipe(prompt)"
   ]
  },
  {
   "cell_type": "code",
   "execution_count": null,
   "id": "7faec5f5-09cd-4351-b134-0384ff417253",
   "metadata": {},
   "outputs": [],
   "source": []
  }
 ],
 "metadata": {
  "kernelspec": {
   "display_name": "Python 3 (ipykernel)",
   "language": "python",
   "name": "python3"
  },
  "language_info": {
   "codemirror_mode": {
    "name": "ipython",
    "version": 3
   },
   "file_extension": ".py",
   "mimetype": "text/x-python",
   "name": "python",
   "nbconvert_exporter": "python",
   "pygments_lexer": "ipython3",
   "version": "3.8.18"
  }
 },
 "nbformat": 4,
 "nbformat_minor": 5
}
